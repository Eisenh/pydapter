{
  "cells": [
    {
      "cell_type": "markdown",
      "id": "f97697fa",
      "metadata": {},
      "source": [
        "Let's start with a simple example using the JsonAdapter:"
      ]
    },
    {
      "cell_type": "code",
      "execution_count": 1,
      "id": "d63858f5",
      "metadata": {},
      "outputs": [
        {
          "name": "stdout",
          "output_type": "stream",
          "text": [
            "JSON Output:\n",
            "[\n",
            "  {\n",
            "    \"active\": true,\n",
            "    \"email\": \"alice@example.com\",\n",
            "    \"id\": 1,\n",
            "    \"name\": \"Alice\",\n",
            "    \"tags\": [\n",
            "      \"admin\",\n",
            "      \"staff\"\n",
            "    ]\n",
            "  },\n",
            "  {\n",
            "    \"active\": false,\n",
            "    \"email\": \"bob@example.com\",\n",
            "    \"id\": 2,\n",
            "    \"name\": \"Bob\",\n",
            "    \"tags\": []\n",
            "  },\n",
            "  {\n",
            "    \"active\": true,\n",
            "    \"email\": \"charlie@example.com\",\n",
            "    \"id\": 3,\n",
            "    \"name\": \"Charlie\",\n",
            "    \"tags\": [\n",
            "      \"staff\"\n",
            "    ]\n",
            "  }\n",
            "]\n",
            "\n",
            "Loaded users:\n",
            "Alice (alice@example.com): Active=True, Tags=['admin', 'staff']\n",
            "Bob (bob@example.com): Active=False, Tags=[]\n",
            "Charlie (charlie@example.com): Active=True, Tags=['staff']\n"
          ]
        }
      ],
      "source": [
        "from pydantic import BaseModel, Field\n",
        "from typing import List, Optional\n",
        "from pydapter.adapters.json_ import JsonAdapter\n",
        "\n",
        "\n",
        "# Define a Pydantic model\n",
        "class User(BaseModel):\n",
        "    id: int\n",
        "    name: str\n",
        "    email: str\n",
        "    active: bool = True\n",
        "    tags: List[str] = []\n",
        "\n",
        "\n",
        "# Create some test data\n",
        "users = [\n",
        "    User(id=1, name=\"Alice\", email=\"alice@example.com\", tags=[\"admin\", \"staff\"]),\n",
        "    User(id=2, name=\"Bob\", email=\"bob@example.com\", active=False),\n",
        "    User(id=3, name=\"Charlie\", email=\"charlie@example.com\", tags=[\"staff\"]),\n",
        "]\n",
        "\n",
        "# Convert models to JSON\n",
        "json_data = JsonAdapter.to_obj(users, many=True)\n",
        "print(\"JSON Output:\")\n",
        "print(json_data)\n",
        "\n",
        "# Convert JSON back to models\n",
        "loaded_users = JsonAdapter.from_obj(User, json_data, many=True)\n",
        "print(\"\\nLoaded users:\")\n",
        "for user in loaded_users:\n",
        "    print(f\"{user.name} ({user.email}): Active={user.active}, Tags={user.tags}\")"
      ]
    },
    {
      "cell_type": "markdown",
      "id": "9edddd5d",
      "metadata": {},
      "source": [
        "Using the Adaptable Mixin for Better Ergonomics\n",
        "\n",
        "Pydapter provides an Adaptable mixin that makes the API more ergonomic:"
      ]
    },
    {
      "cell_type": "code",
      "execution_count": 2,
      "id": "c16cdc3e",
      "metadata": {},
      "outputs": [
        {
          "name": "stdout",
          "output_type": "stream",
          "text": [
            "JSON Output:\n",
            "{\n",
            "  \"id\": 101,\n",
            "  \"in_stock\": true,\n",
            "  \"name\": \"Laptop\",\n",
            "  \"price\": 999.99\n",
            "}\n",
            "\n",
            "Loaded product: Laptop ($999.99)\n"
          ]
        }
      ],
      "source": [
        "from pydantic import BaseModel\n",
        "from typing import List\n",
        "from pydapter.core import Adaptable\n",
        "from pydapter.adapters.json_ import JsonAdapter\n",
        "\n",
        "\n",
        "# Define a model with the Adaptable mixin\n",
        "class Product(BaseModel, Adaptable):\n",
        "    id: int\n",
        "    name: str\n",
        "    price: float\n",
        "    in_stock: bool = True\n",
        "\n",
        "\n",
        "# Register the JSON adapter\n",
        "Product.register_adapter(JsonAdapter)\n",
        "\n",
        "# Create a product\n",
        "product = Product(id=101, name=\"Laptop\", price=999.99)\n",
        "\n",
        "# Convert to JSON using the mixin method\n",
        "json_data = product.adapt_to(obj_key=\"json\")\n",
        "print(\"JSON Output:\")\n",
        "print(json_data)\n",
        "\n",
        "# Convert back to a model\n",
        "loaded_product = Product.adapt_from(json_data, obj_key=\"json\")\n",
        "print(f\"\\nLoaded product: {loaded_product.name} (${loaded_product.price})\")"
      ]
    },
    {
      "cell_type": "markdown",
      "id": "3a4b7354",
      "metadata": {},
      "source": [
        "Working with **CSV**:\n"
      ]
    },
    {
      "cell_type": "code",
      "execution_count": null,
      "id": "24ed1e3b",
      "metadata": {},
      "outputs": [
        {
          "name": "stdout",
          "output_type": "stream",
          "text": [
            "CSV Output:\n",
            "id,name,department,salary,hire_date\n",
            "1,Alice,Engineering,85000.0,2020-01-15\n",
            "2,Bob,Marketing,75000.0,2021-03-20\n",
            "3,Charlie,Finance,95000.0,2019-11-01\n",
            "\n",
            "\n",
            "Loaded employees:\n",
            "Alice - Engineering ($85000.0)\n",
            "Bob - Marketing ($75000.0)\n",
            "Charlie - Finance ($95000.0)\n"
          ]
        }
      ],
      "source": [
        "from pydantic import BaseModel\n",
        "from pydapter.adapters.csv_ import CsvAdapter\n",
        "\n",
        "\n",
        "# Define a Pydantic model\n",
        "class Employee(Adaptable, BaseModel):\n",
        "    id: int\n",
        "    name: str\n",
        "    department: str\n",
        "    salary: float\n",
        "    hire_date: str\n",
        "\n",
        "\n",
        "# Create some sample data\n",
        "employees = [\n",
        "    Employee(\n",
        "        id=1,\n",
        "        name=\"Alice\",\n",
        "        department=\"Engineering\",\n",
        "        salary=85000,\n",
        "        hire_date=\"2020-01-15\",\n",
        "    ),\n",
        "    Employee(\n",
        "        id=2, name=\"Bob\", department=\"Marketing\", salary=75000, hire_date=\"2021-03-20\"\n",
        "    ),\n",
        "    Employee(\n",
        "        id=3, name=\"Charlie\", department=\"Finance\", salary=95000, hire_date=\"2019-11-01\"\n",
        "    ),\n",
        "]\n",
        "\n",
        "csv_data = CsvAdapter.to_obj(employees, many=True)\n",
        "print(\"CSV Output:\")\n",
        "print(csv_data)\n",
        "\n",
        "# Convert CSV back to models\n",
        "loaded_employees = CsvAdapter.from_obj(Employee, csv_data, many=True)\n",
        "print(\"\\nLoaded employees:\")\n",
        "for employee in loaded_employees:\n",
        "    print(f\"{employee.name} - {employee.department} (${employee.salary})\")\n",
        "\n",
        "# You can also save to a file and read from a file\n",
        "from pathlib import Path\n",
        "\n",
        "# Save to file\n",
        "Path(\"employees.csv\").write_text(csv_data)\n",
        "\n",
        "# Read from file\n",
        "file_employees = CsvAdapter.from_obj(Employee, Path(\"employees.csv\"), many=True)"
      ]
    },
    {
      "cell_type": "code",
      "execution_count": 13,
      "id": "f31616d5",
      "metadata": {},
      "outputs": [
        {
          "data": {
            "text/plain": [
              "[Employee(id=1, name='Alice', department='Engineering', salary=85000.0, hire_date='2020-01-15'),\n",
              " Employee(id=2, name='Bob', department='Marketing', salary=75000.0, hire_date='2021-03-20'),\n",
              " Employee(id=3, name='Charlie', department='Finance', salary=95000.0, hire_date='2019-11-01')]"
            ]
          },
          "execution_count": 13,
          "metadata": {},
          "output_type": "execute_result"
        }
      ],
      "source": [
        "file_employees;"
      ]
    },
    {
      "cell_type": "markdown",
      "id": "756d803e",
      "metadata": {},
      "source": [
        "Working with **TOML**"
      ]
    },
    {
      "cell_type": "code",
      "execution_count": 4,
      "id": "3ebc132d",
      "metadata": {},
      "outputs": [
        {
          "name": "stdout",
          "output_type": "stream",
          "text": [
            "TOML Output:\n",
            "app_name = \"MyApp\"\n",
            "version = \"1.0.0\"\n",
            "debug = true\n",
            "allowed_hosts = [ \"localhost\", \"example.com\",]\n",
            "\n",
            "[database]\n",
            "host = \"localhost\"\n",
            "port = \"5432\"\n",
            "name = \"myapp\"\n",
            "\n",
            "\n",
            "Loaded config:\n",
            "App: MyApp v1.0.0\n",
            "Debug mode: True\n",
            "Database: {'host': 'localhost', 'port': '5432', 'name': 'myapp'}\n",
            "Allowed hosts: ['localhost', 'example.com']\n"
          ]
        }
      ],
      "source": [
        "from pydantic import BaseModel\n",
        "from typing import List, Dict, Optional\n",
        "from pydapter.adapters.toml_ import TomlAdapter\n",
        "\n",
        "\n",
        "# Define a Pydantic model\n",
        "class AppConfig(BaseModel):\n",
        "    app_name: str\n",
        "    version: str\n",
        "    debug: bool = False\n",
        "    database: Dict[str, str] = {}\n",
        "    allowed_hosts: List[str] = []\n",
        "\n",
        "\n",
        "# Create a config\n",
        "config = AppConfig(\n",
        "    app_name=\"MyApp\",\n",
        "    version=\"1.0.0\",\n",
        "    debug=True,\n",
        "    database={\"host\": \"localhost\", \"port\": \"5432\", \"name\": \"myapp\"},\n",
        "    allowed_hosts=[\"localhost\", \"example.com\"],\n",
        ")\n",
        "\n",
        "# Convert to TOML\n",
        "toml_data = TomlAdapter.to_obj(config)\n",
        "print(\"TOML Output:\")\n",
        "print(toml_data)\n",
        "\n",
        "# Convert TOML back to model\n",
        "loaded_config = TomlAdapter.from_obj(AppConfig, toml_data)\n",
        "print(\"\\nLoaded config:\")\n",
        "print(f\"App: {loaded_config.app_name} v{loaded_config.version}\")\n",
        "print(f\"Debug mode: {loaded_config.debug}\")\n",
        "print(f\"Database: {loaded_config.database}\")\n",
        "print(f\"Allowed hosts: {loaded_config.allowed_hosts}\")\n",
        "\n",
        "# Save to file\n",
        "Path(\"config.toml\").write_text(toml_data)\n",
        "\n",
        "# Read from file\n",
        "file_config = TomlAdapter.from_obj(AppConfig, Path(\"config.toml\"))"
      ]
    },
    {
      "cell_type": "markdown",
      "id": "242dbf6a",
      "metadata": {},
      "source": [
        "Working with **Pandas DataFrame**\n",
        "\n",
        "`pip install \"pydapter[pandas]\"` to use the pandas adapter."
      ]
    },
    {
      "cell_type": "code",
      "execution_count": 5,
      "id": "718dca97",
      "metadata": {},
      "outputs": [
        {
          "name": "stdout",
          "output_type": "stream",
          "text": [
            "DataFrame to Models:\n",
            "1: 2 x Laptop at $999.99\n",
            "2: 3 x Monitor at $249.99\n",
            "3: 5 x Mouse at $29.99\n",
            "\n",
            "Models to DataFrame:\n",
            "   id  product  quantity   price        date\n",
            "0   1   Laptop         2  999.99  2023-01-15\n",
            "1   2  Monitor         3  249.99  2023-01-20\n",
            "2   3    Mouse         5   29.99  2023-01-25\n"
          ]
        }
      ],
      "source": [
        "import pandas as pd\n",
        "from pydantic import BaseModel\n",
        "from pydapter.extras.pandas_ import DataFrameAdapter\n",
        "\n",
        "\n",
        "# Define a Pydantic model\n",
        "class SalesRecord(BaseModel):\n",
        "    id: int\n",
        "    product: str\n",
        "    quantity: int\n",
        "    price: float\n",
        "    date: str\n",
        "\n",
        "\n",
        "# Create a sample DataFrame\n",
        "df = pd.DataFrame(\n",
        "    [\n",
        "        {\n",
        "            \"id\": 1,\n",
        "            \"product\": \"Laptop\",\n",
        "            \"quantity\": 2,\n",
        "            \"price\": 999.99,\n",
        "            \"date\": \"2023-01-15\",\n",
        "        },\n",
        "        {\n",
        "            \"id\": 2,\n",
        "            \"product\": \"Monitor\",\n",
        "            \"quantity\": 3,\n",
        "            \"price\": 249.99,\n",
        "            \"date\": \"2023-01-20\",\n",
        "        },\n",
        "        {\n",
        "            \"id\": 3,\n",
        "            \"product\": \"Mouse\",\n",
        "            \"quantity\": 5,\n",
        "            \"price\": 29.99,\n",
        "            \"date\": \"2023-01-25\",\n",
        "        },\n",
        "    ]\n",
        ")\n",
        "\n",
        "# Convert DataFrame to models\n",
        "sales_records = DataFrameAdapter.from_obj(SalesRecord, df, many=True)\n",
        "print(\"DataFrame to Models:\")\n",
        "for record in sales_records:\n",
        "    print(f\"{record.id}: {record.quantity} x {record.product} at ${record.price}\")\n",
        "\n",
        "# Convert models back to DataFrame\n",
        "new_df = DataFrameAdapter.to_obj(sales_records, many=True)\n",
        "print(\"\\nModels to DataFrame:\")\n",
        "print(new_df)"
      ]
    },
    {
      "cell_type": "markdown",
      "id": "c9e7871f",
      "metadata": {},
      "source": [
        "Working with **Excel** Files\n",
        "\n",
        "`pip install \"pydapter[excel]\"` to use the excel adapter."
      ]
    },
    {
      "cell_type": "code",
      "execution_count": 6,
      "id": "d398d1b9",
      "metadata": {},
      "outputs": [
        {
          "name": "stdout",
          "output_type": "stream",
          "text": [
            "Excel file saved as 'students.xlsx'\n",
            "\n",
            "Loaded students:\n",
            "Alice: A (92.5)\n",
            "Bob: B (85.0)\n",
            "Charlie: A- (90.0)\n"
          ]
        }
      ],
      "source": [
        "from pydantic import BaseModel\n",
        "from typing import List, Optional\n",
        "from pydapter.extras.excel_ import ExcelAdapter\n",
        "from pathlib import Path\n",
        "\n",
        "\n",
        "# Define a Pydantic model\n",
        "class Student(BaseModel):\n",
        "    id: int\n",
        "    name: str\n",
        "    grade: str\n",
        "    score: float\n",
        "\n",
        "\n",
        "# Create some sample data\n",
        "students = [\n",
        "    Student(id=1, name=\"Alice\", grade=\"A\", score=92.5),\n",
        "    Student(id=2, name=\"Bob\", grade=\"B\", score=85.0),\n",
        "    Student(id=3, name=\"Charlie\", grade=\"A-\", score=90.0),\n",
        "]\n",
        "\n",
        "# Convert to Excel and save to file\n",
        "excel_data = ExcelAdapter.to_obj(students, many=True, sheet_name=\"Students\")\n",
        "with open(\"students.xlsx\", \"wb\") as f:\n",
        "    f.write(excel_data)\n",
        "\n",
        "print(\"Excel file saved as 'students.xlsx'\")\n",
        "\n",
        "# Read from Excel file\n",
        "loaded_students = ExcelAdapter.from_obj(Student, Path(\"students.xlsx\"), many=True)\n",
        "print(\"\\nLoaded students:\")\n",
        "for student in loaded_students:\n",
        "    print(f\"{student.name}: {student.grade} ({student.score})\")"
      ]
    },
    {
      "cell_type": "markdown",
      "id": "abc83a4e",
      "metadata": {},
      "source": [
        "**Error handling**"
      ]
    },
    {
      "cell_type": "code",
      "execution_count": 8,
      "id": "42e846b0",
      "metadata": {},
      "outputs": [
        {
          "name": "stdout",
          "output_type": "stream",
          "text": [
            "Parsing error: Invalid JSON: Expecting property name enclosed in double quotes: line 1 column 3 (char 2) (position=2, line=1, column=3)\n",
            "Validation error: Validation error: 3 validation errors for Product\n",
            "id\n",
            "  Input should be greater than 0 [type=greater_than, input_value=0, input_type=int]\n",
            "    For further information visit https://errors.pydantic.dev/2.11/v/greater_than\n",
            "name\n",
            "  String should have at least 3 characters [type=string_too_short, input_value='A', input_type=str]\n",
            "    For further information visit https://errors.pydantic.dev/2.11/v/string_too_short\n",
            "price\n",
            "  Input should be greater than 0 [type=greater_than, input_value=-10.0, input_type=float]\n",
            "    For further information visit https://errors.pydantic.dev/2.11/v/greater_than (errors=[{'type': 'greater_than', 'loc': ('id',), 'msg': 'Input should be greater than 0', 'input': 0, 'ctx': {'gt': 0}, 'url': 'https://errors.pydantic.dev/2.11/v/greater_than'}, {'type': 'string_too_short', 'loc': ('name',), 'msg': 'String should have at least 3 characters', 'input': 'A', 'ctx': {'min_length': 3}, 'url': 'https://errors.pydantic.dev/2.11/v/string_too_short'}, {'type': 'greater_than', 'loc': ('price',), 'msg': 'Input should be greater than 0', 'input': -10.0, 'ctx': {'gt': 0.0}, 'url': 'https://errors.pydantic.dev/2.11/v/greater_than'}])\n"
          ]
        }
      ],
      "source": [
        "from pydantic import BaseModel, Field\n",
        "from pydapter.adapters.json_ import JsonAdapter\n",
        "from pydapter.exceptions import ParseError, ValidationError as AdapterValidationError\n",
        "\n",
        "\n",
        "# Define a model with validation constraints\n",
        "class Product(BaseModel):\n",
        "    id: int = Field(gt=0)  # Must be greater than 0\n",
        "    name: str = Field(min_length=3)  # Must be at least 3 characters\n",
        "    price: float = Field(gt=0.0)  # Must be greater than 0\n",
        "\n",
        "\n",
        "# Handle parsing errors\n",
        "try:\n",
        "    # Try to parse invalid JSON\n",
        "    invalid_json = \"{ 'id': 1, 'name': 'Laptop', price: 999.99 }\"  # Note the missing quotes around 'price'\n",
        "    product = JsonAdapter.from_obj(Product, invalid_json)\n",
        "except ParseError as e:\n",
        "    print(f\"Parsing error: {e}\")\n",
        "\n",
        "# Handle validation errors\n",
        "try:\n",
        "    # Try to create a model with invalid data\n",
        "    valid_json = (\n",
        "        '{\"id\": 0, \"name\": \"A\", \"price\": -10.0}'  # All fields violate constraints\n",
        "    )\n",
        "    product = JsonAdapter.from_obj(Product, valid_json)\n",
        "except AdapterValidationError as e:\n",
        "    print(f\"Validation error: {e}\")\n",
        "    if hasattr(e, \"errors\") and callable(e.errors):\n",
        "        for error in e.errors():\n",
        "            print(f\"  - {error['loc']}: {error['msg']}\")"
      ]
    }
  ],
  "metadata": {
    "kernelspec": {
      "display_name": ".venv",
      "language": "python",
      "name": "python3"
    },
    "language_info": {
      "codemirror_mode": {
        "name": "ipython",
        "version": 3
      },
      "file_extension": ".py",
      "mimetype": "text/x-python",
      "name": "python",
      "nbconvert_exporter": "python",
      "pygments_lexer": "ipython3",
      "version": "3.10.16"
    }
  },
  "nbformat": 4,
  "nbformat_minor": 5
}
